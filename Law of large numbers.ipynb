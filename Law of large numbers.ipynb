{
 "cells": [
  {
   "cell_type": "code",
   "execution_count": 1,
   "metadata": {},
   "outputs": [],
   "source": [
    "#The law of larger support the intuition that as the size of the sample increases, the mean value of the sample will\n",
    "#better approximate the mean or expected value in the population. As the sample size goes to infinity, \n",
    "#the sample mean will converge to the population mean."
   ]
  },
  {
   "cell_type": "code",
   "execution_count": 2,
   "metadata": {},
   "outputs": [],
   "source": [
    "# The law of large numbers ]\n",
    "import numpy as np\n",
    "from numpy.random import randn"
   ]
  },
  {
   "cell_type": "code",
   "execution_count": 3,
   "metadata": {},
   "outputs": [
    {
     "name": "stdout",
     "output_type": "stream",
     "text": [
      "0.709\n"
     ]
    }
   ],
   "source": [
    "sample_size_1 = 1000   #  as the sample size increases the probability that our sample size will fall within -1 and 1 becomes more and more \n",
    "# closer to 0.68. This supports the notion that for any randomly generated normal distribution about 68% of our true sample mean will fall within\n",
    "# -1 and 1 standard deviation. \n",
    "counter = 0\n",
    "for x in randn (sample_size_1):\n",
    "    if (x >=-1 and x<= 1):\n",
    "        counter = counter + 1\n",
    "answer = counter/sample_size_1\n",
    "print(answer)"
   ]
  },
  {
   "cell_type": "markdown",
   "metadata": {},
   "source": [
    "---"
   ]
  },
  {
   "cell_type": "code",
   "execution_count": 4,
   "metadata": {},
   "outputs": [
    {
     "name": "stdout",
     "output_type": "stream",
     "text": [
      "1.935\n"
     ]
    }
   ],
   "source": [
    "# 95% will fall between -2 and 2 standard deviations:\n",
    "\n",
    "sample_size_2 = 800\n",
    "counter = 0\n",
    "for x in randn (sample_size_2):\n",
    "    if (x >=-2 and x<= 2):\n",
    "        counter = counter + 2\n",
    "answer = counter/sample_size_2\n",
    "print(answer)"
   ]
  },
  {
   "cell_type": "markdown",
   "metadata": {},
   "source": [
    "---"
   ]
  },
  {
   "cell_type": "code",
   "execution_count": 5,
   "metadata": {},
   "outputs": [
    {
     "name": "stdout",
     "output_type": "stream",
     "text": [
      "3.0\n"
     ]
    }
   ],
   "source": [
    "# 99% will fall between -3 and 3 standard deviations:\n",
    "\n",
    "sample_size_3 = 900\n",
    "counter = 0\n",
    "for x in randn (sample_size_3):\n",
    "    if (x >=-3 and x<= 3):\n",
    "        counter = counter + 3\n",
    "answer = counter/sample_size_3\n",
    "print(answer)"
   ]
  },
  {
   "cell_type": "code",
   "execution_count": null,
   "metadata": {},
   "outputs": [],
   "source": []
  },
  {
   "cell_type": "code",
   "execution_count": null,
   "metadata": {},
   "outputs": [],
   "source": []
  }
 ],
 "metadata": {
  "kernelspec": {
   "display_name": "Python 3",
   "language": "python",
   "name": "python3"
  },
  "language_info": {
   "codemirror_mode": {
    "name": "ipython",
    "version": 3
   },
   "file_extension": ".py",
   "mimetype": "text/x-python",
   "name": "python",
   "nbconvert_exporter": "python",
   "pygments_lexer": "ipython3",
   "version": "3.7.1"
  }
 },
 "nbformat": 4,
 "nbformat_minor": 2
}
